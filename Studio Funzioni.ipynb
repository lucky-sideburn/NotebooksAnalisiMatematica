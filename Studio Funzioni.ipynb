{
 "cells": [
  {
   "cell_type": "code",
   "execution_count": 26,
   "id": "75bb6665",
   "metadata": {
    "scrolled": true
   },
   "outputs": [],
   "source": [
    "import matplotlib.pyplot as plt\n",
    "\n",
    "import numpy as np\n",
    "\n",
    "from scipy import optimize\n",
    "\n",
    "from scipy import misc\n",
    "\n",
    "from scipy import integrate\n",
    "\n",
    "from sympy import limit, Symbol"
   ]
  },
  {
   "cell_type": "code",
   "execution_count": 27,
   "id": "e9c75fe9",
   "metadata": {},
   "outputs": [],
   "source": [
    "def f(func, x):\n",
    "    try:\n",
    "        return sage_eval(func, locals={'x':x})\n",
    "    except ZeroDivisionError:\n",
    "        print(\"attenzione divisione per zero!!\")"
   ]
  },
  {
   "cell_type": "code",
   "execution_count": 28,
   "id": "5d7a671a",
   "metadata": {},
   "outputs": [],
   "source": [
    "def is_pari_dispari(funzione):\n",
    "    # Una funzione pari è una funzione tale per cui f(-x)=f(x)\n",
    "    # x^2 è pari\n",
    "\n",
    "    # Una funzione dispari è una funzione tale per cui f(-x)=-f(x)\n",
    "    # x^3 è dispari\n",
    "    if f(funzione, -2) == f(funzione, 2):\n",
    "        print(\"La funzione è pari\")\n",
    "    elif f(funzione, -2) == (f(funzione, 2) * -1):\n",
    "        print(\"La funzione è dispari\")\n",
    "    else:\n",
    "        print(\"To do...\")\n",
    "        return False"
   ]
  },
  {
   "cell_type": "code",
   "execution_count": 29,
   "id": "3a5dc84d",
   "metadata": {},
   "outputs": [],
   "source": [
    "def is_continua(func, x0):\n",
    "    x = Symbol('x') \n",
    "    # Una funzione è continua nel punto x0 se lim x-> x0 per f(x) = f(x0)\n",
    "    if limit(func, x, x0) == f(funzione, x0):\n",
    "        print(f\"La funzione è continua per {x0}\")\n",
    "    else:\n",
    "        print(f\"La funzione non è continua per {x0}\")\n",
    "    "
   ]
  },
  {
   "cell_type": "code",
   "execution_count": 30,
   "id": "e08f3cdd",
   "metadata": {},
   "outputs": [],
   "source": [
    "def is_monotona(func, x1, x2):\n",
    "    \n",
    "    # Una funzione f(x) è monotona crescente se per ogni x1,x2 con x1 <= x2 risulta che f(x1) <= f(x2)\n",
    "    # Una funzione f(x) è monotona decrescente se per ogni x1,x2 con x1 <= x2 risulta che f(x1) >= f(x2)\n",
    "    # Una funzione f(x) è monotona strettamente crescente se per ogni x1,x2 con x1 < x2 risulta che f(x1) < f(x2)\n",
    "    # Una funzione f(x) è monotona strettamente decrescente se per ogni x1,x2 con x1 < x2 risulta che f(x1) > f(x2)\n",
    "    res_x1 = f(func, x1)\n",
    "    res_x2 = f(func, x2)\n",
    "\n",
    "    print(f\"{func} per x1={x1} => {res_x1}\")\n",
    "    print(f\"{func} per x2={x2} => {res_x2}\")\n",
    "\n",
    "    if f(func, x1) < f(func, x2):\n",
    "        print(f\"La funzione è monotona strettamente crescente per {x1} {x2}\")\n",
    "    elif f(func, x1) > f(func, x2):\n",
    "        print(f\"La funzione è monotona strettamente decrescente per {x1} {x2}\")\n",
    "    else:\n",
    "        print(\"to do..\")\n"
   ]
  },
  {
   "cell_type": "code",
   "execution_count": 23,
   "id": "176a1cd6",
   "metadata": {},
   "outputs": [
    {
     "name": "stdout",
     "output_type": "stream",
     "text": [
      "Inserisci funzione x*2\n",
      "\n",
      "1. Verifica se la funzione è pari o dispari\n",
      "2. Verifica se la funzione è continua\n",
      "3. Verifica se la funzione è monotona\n",
      "               \n",
      "3\n"
     ]
    }
   ],
   "source": [
    "funzione = input(\"Inserisci funzione \")\n",
    "\n",
    "select = input(\"\"\"\n",
    "1. Verifica se la funzione è pari o dispari\n",
    "2. Verifica se la funzione è continua\n",
    "3. Verifica se la funzione è monotona\n",
    "               \n",
    "\"\"\")\n"
   ]
  },
  {
   "cell_type": "code",
   "execution_count": 24,
   "id": "085f99d2",
   "metadata": {
    "scrolled": true
   },
   "outputs": [
    {
     "data": {
      "image/png": "[encoded data removed]",
      "text/plain": [
       "<Figure size 432x288 with 1 Axes>"
      ]
     },
     "metadata": {
      "needs_background": "light"
     },
     "output_type": "display_data"
    }
   ],
   "source": [
    "x = np.arange(-10, 10, 0.1)\n",
    "\n",
    "y = []\n",
    "\n",
    "for i in x:\n",
    "    result = f(funzione, i)\n",
    "    y.append(result)\n",
    "\n",
    "plt.figure(1)\n",
    "\n",
    "plt.plot(x, y)\n",
    "\n",
    "plt.xlim(-10, 10)\n",
    "\n",
    "plt.ylim(-10, 10)\n",
    "\n",
    "plt.show()\n",
    "\n"
   ]
  },
  {
   "cell_type": "code",
   "execution_count": 25,
   "id": "b84b2125",
   "metadata": {},
   "outputs": [
    {
     "name": "stdout",
     "output_type": "stream",
     "text": [
      "Inserisci x1 (x1 < x2) 1\n",
      "Inserisci x2 (x1 < x2) 2\n",
      "x*2 per x1=1 => 2\n",
      "x*2 per x2=2 => 4\n",
      "La funzione è monotona strettamente crescente per 1 2\n"
     ]
    }
   ],
   "source": [
    "if select == \"1\":\n",
    "    is_pari_dispari(funzione)\n",
    "\n",
    "elif select == \"2\":\n",
    "    x0 = input(\"Inserisci x0  \")\n",
    "    is_continua(funzione, int(x0))\n",
    "\n",
    "elif select == \"3\":\n",
    "    x1 = input(\"Inserisci x1 (x1 < x2) \")\n",
    "    x2 = input(\"Inserisci x2 (x1 < x2) \")\n",
    "\n",
    "    is_monotona(funzione, int(x1), int(x2))\n",
    "\n",
    "else:\n",
    "    print(\"Nessun azione selezionata\")\n",
    "    "
   ]
  },
  {
   "cell_type": "code",
   "execution_count": null,
   "id": "531cc742",
   "metadata": {},
   "outputs": [],
   "source": []
  },
  {
   "cell_type": "code",
   "execution_count": null,
   "id": "1cf45e12",
   "metadata": {},
   "outputs": [],
   "source": []
  },
  {
   "cell_type": "code",
   "execution_count": null,
   "id": "2b013244",
   "metadata": {},
   "outputs": [],
   "source": []
  }
 ],
 "metadata": {
  "kernelspec": {
   "display_name": "SageMath 9.6",
   "language": "sage",
   "name": "sagemath-9.6"
  },
  "language_info": {
   "codemirror_mode": {
    "name": "ipython",
    "version": 3
   },
   "file_extension": ".py",
   "mimetype": "text/x-python",
   "name": "python",
   "nbconvert_exporter": "python",
   "pygments_lexer": "ipython3",
   "version": "3.10.3"
  }
 },
 "nbformat": 4,
 "nbformat_minor": 5
}
