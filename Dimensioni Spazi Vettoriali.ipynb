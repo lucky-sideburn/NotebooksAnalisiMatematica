{
 "cells": [
  {
   "cell_type": "code",
   "execution_count": 4,
   "id": "95224307",
   "metadata": {},
   "outputs": [],
   "source": [
    "import matplotlib.pyplot as plt\n",
    "\n",
    "import numpy as np\n",
    "\n",
    "from scipy import optimize\n",
    "\n",
    "from scipy import misc\n",
    "\n",
    "from scipy import integrate\n",
    "\n",
    "from sympy import limit, Symbol\n",
    "\n",
    "import sympy as sp"
   ]
  },
  {
   "cell_type": "code",
   "execution_count": 5,
   "id": "f80ff66f",
   "metadata": {},
   "outputs": [],
   "source": [
    "a=[[1,5,6,8],[1,2,5,9],[7,5,6,2]]"
   ]
  },
  {
   "cell_type": "code",
   "execution_count": 6,
   "id": "a8c11547",
   "metadata": {},
   "outputs": [
    {
     "data": {
      "text/plain": [
       "(3, 4)"
      ]
     },
     "execution_count": 6,
     "metadata": {},
     "output_type": "execute_result"
    }
   ],
   "source": [
    "np.shape(a)"
   ]
  },
  {
   "cell_type": "code",
   "execution_count": null,
   "id": "00acf87c",
   "metadata": {},
   "outputs": [],
   "source": []
  }
 ],
 "metadata": {
  "kernelspec": {
   "display_name": "SageMath 9.6",
   "language": "sage",
   "name": "sagemath-9.6"
  },
  "language_info": {
   "codemirror_mode": {
    "name": "ipython",
    "version": 3
   },
   "file_extension": ".py",
   "mimetype": "text/x-python",
   "name": "python",
   "nbconvert_exporter": "python",
   "pygments_lexer": "ipython3",
   "version": "3.10.3"
  }
 },
 "nbformat": 4,
 "nbformat_minor": 5
}
